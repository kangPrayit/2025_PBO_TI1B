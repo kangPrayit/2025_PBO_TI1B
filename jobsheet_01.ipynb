{
  "nbformat": 4,
  "nbformat_minor": 0,
  "metadata": {
    "colab": {
      "provenance": [],
      "toc_visible": true,
      "authorship_tag": "ABX9TyM56rabSj699KYsnhJiz0nu",
      "include_colab_link": true
    },
    "kernelspec": {
      "name": "python3",
      "display_name": "Python 3"
    },
    "language_info": {
      "name": "python"
    }
  },
  "cells": [
    {
      "cell_type": "markdown",
      "metadata": {
        "id": "view-in-github",
        "colab_type": "text"
      },
      "source": [
        "<a href=\"https://colab.research.google.com/github/kangPrayit/2025_PBO_TI1B/blob/main/jobsheet_01.ipynb\" target=\"_parent\"><img src=\"https://colab.research.google.com/assets/colab-badge.svg\" alt=\"Open In Colab\"/></a>"
      ]
    },
    {
      "cell_type": "markdown",
      "source": [
        "# Jobsheet 01: Dasar Pemrograman Bahasa Python"
      ],
      "metadata": {
        "id": "GdZUxjymo8oV"
      }
    },
    {
      "cell_type": "markdown",
      "source": [
        "## Praktikum 01"
      ],
      "metadata": {
        "id": "IVzaUMkspPEL"
      }
    },
    {
      "cell_type": "code",
      "execution_count": 6,
      "metadata": {
        "colab": {
          "base_uri": "https://localhost:8080/"
        },
        "id": "Ekttg1PFmSXO",
        "outputId": "5e926c2c-8c55-4b7e-ccde-58eae401b1ed"
      },
      "outputs": [
        {
          "output_type": "stream",
          "name": "stdout",
          "text": [
            "10\n"
          ]
        }
      ],
      "source": [
        "angka_int = 10\n",
        "print(angka_int)"
      ]
    },
    {
      "cell_type": "code",
      "source": [],
      "metadata": {
        "id": "7VegIXSnoQpQ"
      },
      "execution_count": null,
      "outputs": []
    },
    {
      "cell_type": "code",
      "source": [],
      "metadata": {
        "id": "vKUzdIj-oRIa"
      },
      "execution_count": null,
      "outputs": []
    }
  ]
}